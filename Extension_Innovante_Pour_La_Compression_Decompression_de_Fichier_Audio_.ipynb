{
  "cells": [
    {
      "cell_type": "markdown",
      "metadata": {
        "id": "view-in-github",
        "colab_type": "text"
      },
      "source": [
        "<a href=\"https://colab.research.google.com/github/DEKDEGUE-Hajar/Extension-Innovante-Pour-La-Compression-Decompression-de-Fichier-Audio/blob/main/Extension_Innovante_Pour_La_Compression_Decompression_de_Fichier_Audio_.ipynb\" target=\"_parent\"><img src=\"https://colab.research.google.com/assets/colab-badge.svg\" alt=\"Open In Colab\"/></a>"
      ]
    },
    {
      "cell_type": "markdown",
      "id": "e7f31f6b",
      "metadata": {
        "id": "e7f31f6b"
      },
      "source": [
        " <h1 style=\"text-align: justify; font-weight: bold;>hzllo</h1>"
      ]
    },
    {
      "cell_type": "markdown",
      "source": [
        "<h1><font color='red'><text-align: justify>\n",
        "Création d'Une Extension Innovante Pour La Compression/Decompression de Fichier Audio\n",
        "</h1>\n"
      ],
      "metadata": {
        "id": "EtGtFRADi8QH"
      },
      "id": "EtGtFRADi8QH"
    },
    {
      "cell_type": "markdown",
      "id": "1cdd9463",
      "metadata": {
        "id": "1cdd9463"
      },
      "source": [
        "**Objectif:**  Concevoir un format innovant de **compression** et **décompression** audio, capable de réduire efficacement la taille des fichiers audio courants (WAV, MP3, OGG, etc.) tout en permettant de retrouver l’audio original après décompression. Ce nouveau format, nommé **IRM** (Informatique, Réseaux et Multimédia), en référence à notre filière de Licence, a pour but de minimiser la taille des fichiers lors de la compression tout en garantissant une qualité audio optimale. L'accent est mis sur la réduction significative de la taille des fichiers sans compromettre la qualité, assurant ainsi un format efficace pour le stockage et le partage des fichiers multimédias."
      ]
    },
    {
      "cell_type": "markdown",
      "id": "324b1323",
      "metadata": {
        "id": "324b1323"
      },
      "source": [
        "<h2><font color='blue'><text-align: justify>\n",
        "0.Importation des bibliothèques nécessaires\n",
        "</h2>"
      ]
    },
    {
      "cell_type": "code",
      "execution_count": null,
      "id": "c4a53740",
      "metadata": {
        "id": "c4a53740"
      },
      "outputs": [],
      "source": [
        "import numpy as np\n",
        "from scipy import signal\n",
        "import sounddevice as sd\n",
        "from tkinter import filedialog\n",
        "import tkinter as tk\n",
        "import wave\n",
        "import pywt\n",
        "import bitarray\n",
        "import os\n",
        "import pydub\n",
        "import struct\n",
        "import pickle\n",
        "from pydub import AudioSegment"
      ]
    },
    {
      "cell_type": "markdown",
      "id": "5a816da2",
      "metadata": {
        "id": "5a816da2"
      },
      "source": [
        "\n",
        "<h2><font color='blue'><text-align: justify>\n",
        "1.Conversion binaire\n",
        "</h2>\n"
      ]
    },
    {
      "cell_type": "markdown",
      "source": [
        "La fonction (from_dec_to_bin) prend une séquence d’entiers décimaux et renvoie une chaîne binaire représentant ces entiers."
      ],
      "metadata": {
        "id": "F7tpQQ9K81Ei"
      },
      "id": "F7tpQQ9K81Ei"
    },
    {
      "cell_type": "code",
      "execution_count": null,
      "id": "e3d4e259",
      "metadata": {
        "id": "e3d4e259"
      },
      "outputs": [],
      "source": [
        "def from_dec_to_bin(sequence):\n",
        "    binary=\"\".join([format(int(elem),\"08b\") for elem in sequence])\n",
        "    return binary"
      ]
    },
    {
      "cell_type": "markdown",
      "id": "7ad571c1",
      "metadata": {
        "id": "7ad571c1"
      },
      "source": [
        "<h2><font color='blue'><text-align: justify>\n",
        "2. Conversion Décimale\n",
        "</h2>\n"
      ]
    },
    {
      "cell_type": "markdown",
      "source": [
        "La fonction (from_bin_to_decimal) prend une chaîne binaire comme entrée, la décode en une séquence d’entiers décimaux et retourne la séquence résultante."
      ],
      "metadata": {
        "id": "3OlSViI88_ko"
      },
      "id": "3OlSViI88_ko"
    },
    {
      "cell_type": "code",
      "execution_count": null,
      "id": "60ef9e19",
      "metadata": {
        "id": "60ef9e19"
      },
      "outputs": [],
      "source": [
        "def from_bin_to_decimal(decode_RLE):\n",
        "    seq=[int(decode_RLE[i:8+i], 2) for i in range(0,len(decode_RLE),8)]\n",
        "    return seq"
      ]
    },
    {
      "cell_type": "markdown",
      "source": [
        "<h2><font color='blue'><text-align: justify>\n",
        "3. LZW\n",
        "</h2>"
      ],
      "metadata": {
        "id": "RGUJ60OZ9QOd"
      },
      "id": "RGUJ60OZ9QOd"
    },
    {
      "cell_type": "markdown",
      "id": "5cca4eb7",
      "metadata": {
        "id": "5cca4eb7"
      },
      "source": [
        "**LZW (Lempel-Ziv-Welch)** est un algorithme de compression sans perte, largement utilisé pour réduire la taille des fichiers en remplaçant les séquences de caractères répétées par des codes courts. Cet algorithme a été développé par Abraham Lempel, Jacob Ziv, et Terry Welch dans les années 1980.\n",
        "\n",
        "### Fonctionnement :\n",
        "1. **Table de symboles :** L'algorithme commence par créer une table qui associe chaque symbole unique du fichier à un code. Par défaut, chaque caractère individuel est initialisé dans cette table.\n",
        "  \n",
        "2. **Lecture du fichier :** LZW lit les données du fichier d'entrée et construit progressivement une chaîne à partir des symboles déjà trouvés.\n",
        "\n",
        "3. **Compression :** Lorsque l'algorithme rencontre une nouvelle séquence de caractères qui n'est pas encore dans la table, il l'ajoute à la table et émet le code correspondant à la plus longue séquence trouvée précédemment.\n",
        "\n",
        "4. **Sortie :** Le résultat est un fichier compressé qui contient uniquement des codes, ce qui réduit significativement la taille du fichier par rapport à l'original.\n",
        "\n",
        "### Avantages :\n",
        "- **Efficacité :** LZW est particulièrement efficace pour les données contenant des motifs répétitifs, ce qui en fait un choix populaire pour des formats de fichiers comme **GIF** et **TIFF**.\n",
        "  \n",
        "- **Sans perte :** Étant un algorithme de compression sans perte, il garantit que les données originales peuvent être entièrement restaurées après décompression, sans aucune perte de qualité.\n",
        "\n",
        "### Inconvénients :\n",
        "- **Performance variable :** La performance de l'algorithme peut diminuer sur des données qui ne contiennent pas beaucoup de répétitions ou de motifs, rendant son efficacité variable selon le type de fichier.\n",
        "\n",
        "### Applications :\n",
        "LZW est utilisé dans plusieurs formats de fichiers et protocoles, y compris :\n",
        "- **GIF :** Pour la compression d'images.\n",
        "- **TIFF :** Pour la compression d'images de haute qualité.\n",
        "- **PDF :** Pour la compression de documents.\n",
        "\n",
        "En résumé, LZW est un algorithme de compression puissant, efficace et largement utilisé, permettant de réduire la taille des fichiers tout en préservant l'intégrité des données.\n"
      ]
    },
    {
      "cell_type": "code",
      "execution_count": null,
      "id": "fec6221e",
      "metadata": {
        "id": "fec6221e"
      },
      "outputs": [],
      "source": [
        "def compress(data):\n",
        "    dictionary = {\"0\":1, \"1\":2}\n",
        "    current_code = 3\n",
        "    result = []\n",
        "    sequence = \"\"\n",
        "    for symbol in data:\n",
        "        new_sequence = sequence + symbol\n",
        "        if new_sequence in dictionary:\n",
        "            sequence = new_sequence\n",
        "        else:\n",
        "            result.append(dictionary[sequence])\n",
        "            dictionary[new_sequence] = current_code\n",
        "            current_code += 1\n",
        "            sequence = symbol\n",
        "    if sequence:\n",
        "        result.append(dictionary[sequence])\n",
        "    return result\n",
        "def decompress(data):\n",
        "    dictionary = {1:\"0\", 2:\"1\"}\n",
        "    current_code = 3\n",
        "    sequence = dictionary[data[0]]\n",
        "    result = sequence\n",
        "    for code in data[1:]:\n",
        "        if code in dictionary:\n",
        "            entry = dictionary[code]\n",
        "        elif code == current_code:\n",
        "            entry = sequence + sequence[0]\n",
        "        result += entry\n",
        "        dictionary[current_code] = sequence + entry[0]\n",
        "        current_code += 1\n",
        "        sequence = entry\n",
        "    return result"
      ]
    },
    {
      "cell_type": "markdown",
      "id": "9ebec068",
      "metadata": {
        "id": "9ebec068"
      },
      "source": [
        "###### La conversion de n’importe quelle extension à l'extension wav"
      ]
    },
    {
      "cell_type": "code",
      "execution_count": null,
      "id": "a0fd720a",
      "metadata": {
        "id": "a0fd720a"
      },
      "outputs": [],
      "source": [
        "def Open_file():\n",
        "    fenetre=tk.Tk()\n",
        "    # demander à l'utilisateur de sélctionner un fichier audio\n",
        "    file_path = filedialog.askopenfilename()\n",
        "    fenetre.destroy()\n",
        "\n",
        "\n",
        "    # Charger un fichier audio à l’aide de PyDub\n",
        "    sound = pydub.AudioSegment.from_file(file_path)\n",
        "\n",
        "   # extraire l'extension du fichier\n",
        "    file_ext = os.path.splitext(file_path)[1]\n",
        "\n",
        "   # convertir au format wav et enregistrer\n",
        "    if file_ext != \".wav\":\n",
        "        new_file_path = os.path.splitext(file_path)[0] + \".wav\"\n",
        "        sound.export(new_file_path, format=\"wav\")\n",
        "        file_path=new_file_path\n",
        "    return file_path\n"
      ]
    },
    {
      "cell_type": "markdown",
      "id": "90870c67",
      "metadata": {
        "id": "90870c67"
      },
      "source": [
        "###### La conversion du format wav à n’importe quelle extension"
      ]
    },
    {
      "cell_type": "code",
      "execution_count": null,
      "id": "90ecb2e6",
      "metadata": {
        "id": "90ecb2e6",
        "outputId": "75ce50ae-e8e5-4791-8da2-7b84189c8adb"
      },
      "outputs": [
        {
          "name": "stdout",
          "output_type": "stream",
          "text": [
            "Fichier D:/AUDIO/AEROHeli_Helicoptere 1 (ID 0263)_LS.wav converti en D:/AUDIO/AEROHeli_Helicoptere 1 (ID 0263)_LS.mp3\n"
          ]
        }
      ],
      "source": [
        "def convert_audio(file_path, new_format):\n",
        "\n",
        "    # Ouvrir le fichier audio avec pydub\n",
        "    sound = AudioSegment.from_wav(file_path)\n",
        "\n",
        "    # Obtenir le nom du fichier d'origine et le nouveau nom de fichier avec l'extension de format donnée\n",
        "    file_name = file_path.split('.')[0]\n",
        "    new_file_name = file_name + '.' + new_format\n",
        "\n",
        "    # Exporter le fichier audio vers le nouveau format\n",
        "    sound.export(new_file_name, format=new_format)\n",
        "\n",
        "    # Afficher un message de confirmation\n",
        "    print(f\"Fichier {file_path} converti en {new_file_name}\")\n",
        "convert_audio(Open_file(), \"mp3\")"
      ]
    },
    {
      "cell_type": "markdown",
      "id": "9fa1bda8",
      "metadata": {
        "id": "9fa1bda8"
      },
      "source": [
        "Cette fonction prend les données audio sous forme de liste d’entiers, regroupe chaque échantillon dans une valeur entière de 4 octets et stocke les métadonnées et les données audio sous forme de fichier binaire à l’aide de l’extension IRM."
      ]
    },
    {
      "cell_type": "code",
      "execution_count": null,
      "id": "05fd3e99",
      "metadata": {
        "id": "05fd3e99"
      },
      "outputs": [],
      "source": [
        "def convert_to_binary(n_channels,sample_rate,sampwidth,data_audio,coeffs_max,coeffs_lenght):\n",
        "\n",
        "    # Créer un dictionnaire contenant des informations de métadonnées sur le fichier audio\n",
        "    header = {\n",
        "        \"extention\": \"irm\",\n",
        "        \"n_channels\": n_channels,\n",
        "        \"sample_rate\": sample_rate,\n",
        "        \"sampwidth\": sampwidth,\n",
        "        \"length\": len(data_audio),\n",
        "        \"coeffs_max\": coeffs_max,\n",
        "        \"coeffs_lenght\": coeffs_lenght\n",
        "    }\n",
        "\n",
        "    # Créer un objet bytearray pour stocker les données audio sous forme de flux d’octets\n",
        "    data = bytearray()\n",
        "\n",
        "    # Boucle à travers chaque échantillon dans les données audio\n",
        "    for n in data_audio:\n",
        "        # Compressez l’exemple dans une valeur entière de 4 octets et ajoutez-le au bytearray de données\n",
        "        data.extend(struct.pack('i', n))\n",
        "\n",
        "    # Ouvrez un fichier binaire appelé « compressed_file.irm » en mode écriture\n",
        "    # et écrivez le dictionnaire de métadonnées et les données audio dans le fichier\n",
        "    with open(\"compressed_file.irm\", \"wb\") as f:\n",
        "        pickle.dump(header, f)\n",
        "        f.write(data)"
      ]
    },
    {
      "cell_type": "markdown",
      "id": "61841ca3",
      "metadata": {
        "id": "61841ca3"
      },
      "source": [
        "Ce code lit un fichier binaire qui a été précédemment compressé à l’aide de la fonction convert_to_binary()"
      ]
    },
    {
      "cell_type": "code",
      "execution_count": null,
      "id": "2ad91083",
      "metadata": {
        "id": "2ad91083"
      },
      "outputs": [],
      "source": [
        "def read_binary_file():\n",
        "    # Ouvrez le fichier binaire pour la lecture\n",
        "    with open(\"compressed_file.irm\", \"rb\") as f:\n",
        "        # Charger les donnés d’en-tête du fichier à l’aide de pickle\n",
        "        header = pickle.load(f)\n",
        "        # Calculer le nombre total d’octets dans les données de coefficient compressées\n",
        "        num_bytes = header['length'] * 4\n",
        "        # Lire les données de coefficient compressées à partir du fichier\n",
        "        binary_data = f.read(num_bytes)\n",
        "        data_audio = []\n",
        "        for i in range(header['length']):\n",
        "            # Décompressez 4 octets des données binaires et interprétez-les comme un entier de 32 bits\n",
        "            # ajoutez-le à la liste des données audio\n",
        "            data_audio.append(struct.unpack('i', binary_data[i*4:i*4+4])[0])\n",
        "        # Extraire les valeurs de coefficient maximum et les longueurs des tableaux de coefficients compressés de l’en-tête\n",
        "        coeffs_max = header['coeffs_max']\n",
        "        coeffs_lenght = header['coeffs_lenght']\n",
        "    # Renvoyer les métadonnées du fichier audio (nombre de canaux, fréquence d’échantillonnage, largeur d’échantillon), les valeurs de coefficient maximales\n",
        "    # les longueurs des tableaux de coefficients compressés et les données de coefficients compressées sous forme de liste d’entiers\n",
        "    return header['n_channels'],header['sample_rate'], header['sampwidth'],coeffs_max,coeffs_lenght,data_audio\n"
      ]
    },
    {
      "cell_type": "markdown",
      "id": "5b64e8c1",
      "metadata": {
        "id": "5b64e8c1"
      },
      "source": [
        "<h2><font color='blue'>4. La transformée en ondelettes DWT</font></h2>\n"
      ]
    },
    {
      "cell_type": "markdown",
      "id": "15d0b99f",
      "metadata": {
        "id": "15d0b99f"
      },
      "source": [
        "**DWT** (Transformée en Ondelette Discrète) est une technique de traitement du signal qui consiste à transformer un signal en un ensemble de composantes fréquentielles appelées ondelettes. Elle a été développée comme une alternative à la Transformée de Fourier à Court Terme (STFT) pour l'analyse temps-fréquence.\n",
        "\n",
        "La compression basée sur la DWT est largement utilisée pour compresser les fichiers audio. Cette méthode décompose le signal audio en plusieurs composantes fréquentielles, appelées sous-bandes, à l'aide de la transformée en ondelettes discrète. Le principe clé de cette technique est d'identifier et de supprimer les fréquences les moins importantes, qui contiennent peu d'informat\n"
      ]
    },
    {
      "cell_type": "markdown",
      "id": "ae3d1ac5",
      "metadata": {
        "id": "ae3d1ac5"
      },
      "source": [
        "**Pour effectuer la compression, nous suivrons les étapes suivantes:**\n",
        "\n",
        "<h6><font color='blue'>1. Le choix de la fonction ondelette mère :</font></h6>\n",
        "Dans ce cas, nous avons choisi <b>'db4'</b>, l’ondelette utilisée est une ondelette Daubechies 4 (db4).\n",
        "\n",
        "<h6><font color='green'>2. La décomposition des ondelettes :</font></h6>\n",
        "<font color='green'>level=5</font> : il s’agit du nombre de niveaux de décomposition que nous allons calculer. Dans ce cas, le signal est décomposé en <b>5 niveaux</b>.\n",
        "\n",
        "<h6><font color='orange'>3. La troncature des coefficients :</font></h6>\n",
        "- Estimer l’écart type du bruit présent dans les coefficients de détail au niveau le plus élevé de la décomposition en ondelettes.\n",
        "- Définir un seuil pour la méthode <b>VisuShrink</b> en fonction de l’écart type estimé du bruit et de la longueur du signal.\n",
        "- Appliquer un <b>seuillage souple</b> aux coefficients ondelettes à l’aide du seuil calculé.\n",
        "\n",
        "<h6><font color='purple'>4. Encodage des coefficients d'ondelettes quantifiés en bits :</font></h6>\n",
        "Ce schéma de codage utilise une représentation de longueur fixe pour chaque coefficient, chaque coefficient étant représenté à l’aide de <b>8 bits</b>. Le signe du coefficient est représenté par le bit le plus significatif, les coefficients positifs ayant un <b>0</b> dans le bit le plus significatif et les coefficients négatifs ayant un <b>1</b>.\n",
        "\n",
        "<h6><font color='red'>5. Compression LZW :</font></h6>\n",
        "La dernière étape consiste à appliquer la méthode de compression <b>LZW</b>.\n"
      ]
    },
    {
      "cell_type": "markdown",
      "id": "87f354d1",
      "metadata": {
        "id": "87f354d1"
      },
      "source": [
        "<h2><font color='green'>4.1 La Compression</font></h2>\n"
      ]
    },
    {
      "cell_type": "code",
      "execution_count": null,
      "id": "c46fe454",
      "metadata": {
        "id": "c46fe454",
        "outputId": "1ea2e51f-7b02-41e7-8c79-578b2b71e0d3"
      },
      "outputs": [
        {
          "name": "stdout",
          "output_type": "stream",
          "text": [
            "Original size: 1103820 bytes\n",
            "Compressed size: 94892 bytes\n",
            "Compression ratio: 11.63:1\n"
          ]
        }
      ],
      "source": [
        "def compress_to_irm(filename):\n",
        "    # Lire le fichier audio\n",
        "    file = wave.open(filename, mode='rb')\n",
        "    sampwidth=file.getsampwidth()*8\n",
        "    n_channels=file.getnchannels()\n",
        "    sample_rate=file.getframerate()\n",
        "    signal = np.frombuffer(file.readframes(-1), dtype='int16')\n",
        "    # Appliquer la transformation DWT\n",
        "    coeffs = pywt.wavedec(signal, 'db4', level=5)\n",
        "    # Estimer le niveau sonore\n",
        "    sigma = np.median(np.abs(coeffs[-1])) / 0.6745\n",
        "    # Seuillage à l’aide de la méthode VisuShrink\n",
        "    threshold = sigma * np.sqrt(2 * np.log(len(signal)))\n",
        "    coeffs = [pywt.threshold(i, threshold, 'soft') for i in coeffs]\n",
        "\n",
        "    # Compression des coefficients d'ondelettes\n",
        "    ba =bitarray.bitarray(endian='little')\n",
        "    ba_lzw= bitarray.bitarray(endian='little')\n",
        "    coeffs_max=[]\n",
        "    coeffs_lenghts=[]\n",
        "    for c in coeffs:\n",
        "        # Conversion des coefficients d'ondelettes en tableau NumPy\n",
        "        c = np.asarray(c)\n",
        "        # Calcul de la valeur maximale des coefficients d'ondelettes\n",
        "        max_value = max(abs(c))\n",
        "\n",
        "        coeffs_max.append(max_value)\n",
        "        coeffs_lenghts.append(len(c))\n",
        "\n",
        "        # Normalisation des coefficients d'ondelettes\n",
        "        c_norm = c / (max_value + 1)\n",
        "        # Quantification des coefficients d'ondelettes normalisés\n",
        "        c_quant = np.round(c_norm * 127)\n",
        "\n",
        "        # Encodage des coefficients d'ondelettes quantifiés en bits\n",
        "        for b in c_quant:\n",
        "            ba.extend(\"{0:b}\".format(int(b) + 128).zfill(8))\n",
        "\n",
        "    code_lzw=compress(''.join([str(x) for x in ba]))\n",
        "    code_lzw=[int(x) for x in code_lzw]\n",
        "    convert_to_binary(n_channels,sample_rate,sampwidth,code_lzw,coeffs_max,coeffs_lenghts)\n",
        "    # Affichage des informations de compression\n",
        "    original_size = os.path.getsize(filename)\n",
        "    compressed_size = os.path.getsize(\"compressed_file.irm\")\n",
        "    compression_ratio = float(original_size) / compressed_size\n",
        "    print(\"Original size: {} bytes\".format(original_size))\n",
        "    print(\"Compressed size: {} bytes\".format(compressed_size))\n",
        "    print(\"Compression ratio: {:.2f}:1\".format(compression_ratio))\n",
        "\n",
        "compress_to_irm(Open_file())"
      ]
    },
    {
      "cell_type": "markdown",
      "id": "26686ed7",
      "metadata": {
        "id": "26686ed7"
      },
      "source": [
        "<h3><font color='green'>4.1 Décompression</font></h3>\n"
      ]
    },
    {
      "cell_type": "markdown",
      "source": [
        "**Pour effectuer la décompression, nous suivons le étapes suivantes:**\n",
        "\n",
        "1. Décodage LZW\n",
        "\n",
        "2. Effectuer la quantification inverse\n",
        "\n",
        "3. Appliquer la transformée en ondelettes discrètes inverses\n",
        "\n",
        "4. Réaliser un décalage de niveau inverse et une mise à l’échelle sur le signal reconstruit pour obtenir le signal d'origine.\n"
      ],
      "metadata": {
        "id": "MocKKXLB-buN"
      },
      "id": "MocKKXLB-buN"
    },
    {
      "cell_type": "code",
      "execution_count": null,
      "id": "270785f2",
      "metadata": {
        "id": "270785f2",
        "outputId": "0a0e3413-3155-47ff-c50e-e65bac977a80"
      },
      "outputs": [
        {
          "name": "stdout",
          "output_type": "stream",
          "text": [
            "your new file is 'irm_to_wave.wav'\n"
          ]
        }
      ],
      "source": [
        "def decompress_irm1():\n",
        "    # lire les coefficients compressés\n",
        "    n_channels,sample_rate,sampwidth,coeffs_max,coeffs_lenght,data_audio=read_binary_file()\n",
        "    ba=decompress(data_audio)\n",
        "    # Decoder les coefficients compressés\n",
        "    coeffs_decoded = []\n",
        "    start = 0\n",
        "    for i in range(len(coeffs_lenght)):\n",
        "        # extraire la longueur des tableaux de coefficients\n",
        "        length = coeffs_lenght[i]\n",
        "\n",
        "        # Decodage des tableaux de coefficients\n",
        "        c_bits = ba[start:start+length*8]\n",
        "        c_bits=[str(x) for x in c_bits]\n",
        "        c_int = np.array(from_bin_to_decimal(\"\".join(c_bits)))-128\n",
        "\n",
        "        # Redimensionner et quantifier inversement le tableau de coefficients\n",
        "        c_norm = c_int / 127\n",
        "\n",
        "        c = c_norm * (coeffs_max[i] + 1)\n",
        "\n",
        "        coeffs_decoded.append(c)\n",
        "        # Mettre à jour l’index de départ pour le tableau de coefficients suivant\n",
        "        start += length*8\n",
        "        # Appliquer la transformation IDWT\n",
        "        signal_reconstructed = pywt.waverec(coeffs_decoded, 'db4').astype(\"int\"+str(sampwidth))\n",
        "    with wave.open('irm_to_wave.wav', 'wb') as output_file:\n",
        "        output_file.setnchannels(n_channels)\n",
        "        output_file.setsampwidth(sampwidth//8)\n",
        "        output_file.setframerate(sample_rate)\n",
        "        output_file.writeframes(signal_reconstructed.tobytes())\n",
        "    return print(\"your new file is 'irm_to_wave.wav'\")\n",
        "decompress_irm1()"
      ]
    }
  ],
  "metadata": {
    "kernelspec": {
      "display_name": "Python 3 (ipykernel)",
      "language": "python",
      "name": "python3"
    },
    "language_info": {
      "codemirror_mode": {
        "name": "ipython",
        "version": 3
      },
      "file_extension": ".py",
      "mimetype": "text/x-python",
      "name": "python",
      "nbconvert_exporter": "python",
      "pygments_lexer": "ipython3",
      "version": "3.9.12"
    },
    "colab": {
      "provenance": [],
      "include_colab_link": true
    }
  },
  "nbformat": 4,
  "nbformat_minor": 5
}